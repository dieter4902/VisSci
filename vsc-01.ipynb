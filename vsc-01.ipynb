{
 "cells": [
  {
   "cell_type": "markdown",
   "metadata": {
    "pycharm": {
     "name": "#%% md\n"
    }
   },
   "source": [
    "<h1 style=\"font-size:2.5em;text-align:center\">Visual and Scientific Computing</h1>\n",
    "<h2 style=\"text-align:center\">Basics</h2>\n",
    "<h3 style=\"text-align:center\">SoSe 2020</h3>\n",
    "<p style=\"text-align:justify\">Das Lernziel dieser Übungsaufgabe ist mit der Programmiersprache Python und der Bibliothek Numpy vertraut zu werden, um diese dann als Werkzeug in den weiteren Übungen einzusetzen. Machen Sie sich deshalb bitte so gut es geht damit vertraut und nutzen Sie dafür auch bitte Online-Resourcen wie <a href=\"https://docs.scipy.org/doc/numpy-1.13.0/reference/\">https://docs.scipy.org/doc/numpy-1.13.0/reference/</a> und <a href=\"https://docs.python.org/3/\">https://docs.python.org/3/</a>.</p>"
   ]
  },
  {
   "cell_type": "markdown",
   "metadata": {
    "pycharm": {
     "name": "#%% md\n"
    }
   },
   "source": [
    "## Aufgabe 1: Python Einführung (5 Punkte)\n",
    "\n",
    "<ol style=\"list-style: lower-alpha\"><li>Um sich mit der Programmiersprache Python vertraut zu machen, implementieren Sie einen einfachen Mergesort-Algorithmus. Eine beispielhafte Eingabe und Ausgabe könnte so aussehen:</li></ol>\n",
    "<pre>Eingabe: [ 5 14 10  7  2 13  1 12  6  9  0  3  8 11  4]\n",
    "Ausgabe: [ 0  1  2  3  4  5  6  7  8  9 10 11 12 13 14]</pre>"
   ]
  },
  {
   "cell_type": "code",
   "execution_count": 62,
   "metadata": {
    "pycharm": {
     "name": "#%%\n"
    }
   },
   "outputs": [],
   "source": [
    "import numpy as np\n",
    "\n",
    "\n",
    "def mergesort(liste: list) -> np.array:\n",
    "    \"\"\"\n",
    "    Implements Mergesort using an list as input and\n",
    "    returning a sorted list\n",
    "\n",
    "    :param liste:\n",
    "    :return: list\n",
    "    \"\"\"\n",
    "    if len(liste) > 1:\n",
    "        mid = int(len(liste) / 2)\n",
    "        left = liste[:mid]\n",
    "        right = liste[mid:]\n",
    "        mergesort(left)\n",
    "        mergesort(right)\n",
    "        x = 0\n",
    "        y = 0\n",
    "        m = 0\n",
    "        while x < len(left) and y < len(right):\n",
    "            if left[x] <= right[y]:\n",
    "                liste[m] = left[x]\n",
    "                x += 1\n",
    "            else:\n",
    "                liste[m] = right[y]\n",
    "                y += 1\n",
    "            m += 1\n",
    "\n",
    "        while x < len(left):\n",
    "            liste[m] = left[x]\n",
    "            x += 1\n",
    "            m += 1\n",
    "\n",
    "        while y < len(right):\n",
    "            liste[m] = right[y]\n",
    "            y += 1\n",
    "            m += 1\n",
    "\n",
    "        return liste"
   ]
  },
  {
   "cell_type": "code",
   "execution_count": 63,
   "metadata": {
    "pycharm": {
     "name": "#%%\n"
    }
   },
   "outputs": [
    {
     "name": "stdout",
     "output_type": "stream",
     "text": [
      "[13, 15, 18, 22, 31, 36, 52, 61, 65, 86]\n"
     ]
    }
   ],
   "source": [
    "sorted_list = mergesort([52, 18, 65, 61, 31, 86, 36, 15, 22, 13])\n",
    "\n",
    "print(sorted_list)"
   ]
  },
  {
   "cell_type": "markdown",
   "metadata": {
    "pycharm": {
     "name": "#%% md\n"
    }
   },
   "source": [
    "## Aufgabe 2: Numpy Einführung (5 Punkte)\n",
    "\n",
    "<p style=\"margin-left:2em\">Die Bibliothek <em>Numpy</em> ist sehr umfangreich und wir werden auch nicht jede Funktionalität brauchen, aber es ist wichtig mit den grundlegenden Datenstrukturen vertraut zu sein. Ich habe hier eine Liste vonkleinen Aufgaben zusammengestellt, die Sie in der Datei <em>numpy_basic.py</em> beantworten sollen. <strong>Suchen Sie sich insgesamt 14 (von 23) Sterne zusammen und implementieren Sie diese</strong>. Das ist häufig ein Einzeiler oder Zweizeiler. Die Musterlösung benötigt in jeder Teilaufgabe maximal drei Zeilen. Es muss aber nicht krampfhaft versucht werden diese Vorgabe zu erreichen, dies soll nur ein Hinweis darauf sein, dass Sie keinen langen Code schreiben müssen. Lesen Sie sich selbstständig in die Dokumentation ein und versuchen Sie die Fragen mit den notwendigen Numpy-Funktionen zu beantworten. Sollten Sie keine Funktion finden, implementieren Sie eine Lösung selbst in einer kleinen Funktion. Sie können auch im Kursforum nach Hilfe suchen. <strong>Bitten geben Sie die Lösung jeweils auf der Konsole aus (mittels print)</strong>. Hinweis: die print Anweisung zählt nicht zu dem Einzeiler oder Zweizeiler, wenn im Hinweis also steht <i>geht in einer Zeile</i> muss in dieser nicht auch noch die print Anweisung kommen.</p>"
   ]
  },
  {
   "cell_type": "code",
   "execution_count": 64,
   "metadata": {
    "pycharm": {
     "name": "#%%\n"
    }
   },
   "outputs": [],
   "source": [
    "import numpy as np"
   ]
  },
  {
   "cell_type": "markdown",
   "metadata": {
    "pycharm": {
     "name": "#%% md\n"
    }
   },
   "source": [
    "<p style=\"margin-left:2em\">a) (*) Erzeugen Sie einen Vektor a mit Nullen der Länge 10 (10 Elemente) und setzen den Wert des 5. Elementes auf eine 1.</p>"
   ]
  },
  {
   "cell_type": "code",
   "execution_count": 65,
   "metadata": {
    "pycharm": {
     "name": "#%%\n"
    }
   },
   "outputs": [
    {
     "name": "stdout",
     "output_type": "stream",
     "text": [
      "[0 0 0 0 1 0 0 0 0 0]\n"
     ]
    }
   ],
   "source": [
    "# Erzeugen Sie einen Vektor mit Nullen der Länge 10 und setzen den Wert des 5. Elementes auf eine 1.\n",
    "vec1 = np.array([0] * 10)\n",
    "vec1[4] = 1\n",
    "print(vec1)"
   ]
  },
  {
   "cell_type": "markdown",
   "metadata": {
    "pycharm": {
     "name": "#%% md\n"
    }
   },
   "source": [
    "<p style=\"margin-left:2em\">b) (*) Erzeugen Sie einen Vektor b mit Ganzahl-Werten von 10 bis 49 (geht in einer Zeile).</p>"
   ]
  },
  {
   "cell_type": "code",
   "execution_count": 66,
   "metadata": {
    "pycharm": {
     "name": "#%%\n"
    }
   },
   "outputs": [
    {
     "name": "stdout",
     "output_type": "stream",
     "text": [
      "[10 11 12 13 14 15 16 17 18 19 20 21 22 23 24 25 26 27 28 29 30 31 32 33\n",
      " 34 35 36 37 38 39 40 41 42 43 44 45 46 47 48 49]\n"
     ]
    }
   ],
   "source": [
    "# Erzeugen Sie einen Vektor mit Ganzzahl-Werten von 10 bis 49 (geht in einer Zeile).\n",
    "vec2 = np.arange(10, 50)\n",
    "print(vec2)"
   ]
  },
  {
   "cell_type": "markdown",
   "metadata": {
    "pycharm": {
     "name": "#%% md\n"
    }
   },
   "source": [
    "<p style=\"margin-left:2em\">c) (*) Erzeugen Sie einen Vektor mit 8 Einträgen zwischen -1 und 1 bei dem alle Werte die gleichen Abstände habe und sowohl -1 als auch 1 enthalten sind (geht in einer Zeile).</p>"
   ]
  },
  {
   "cell_type": "code",
   "execution_count": 67,
   "metadata": {
    "pycharm": {
     "name": "#%%\n"
    }
   },
   "outputs": [
    {
     "name": "stdout",
     "output_type": "stream",
     "text": [
      "[-1.         -0.71428571 -0.42857143 -0.14285714  0.14285714  0.42857143\n",
      "  0.71428571  1.        ]\n"
     ]
    }
   ],
   "source": [
    "# Erzeugen Sie einen Vektor mit 8 Einträgen zwischen -1 und 1 bei dem alle Werte die gleichen Abstände habe und sowohl -1 als auch 1 enthalten sind (geht in einer Zeile). Hinweis: guckt euch den Unterschied zwischen numpy.arange und numpy.linspace welche Funktion passt besser?.\n",
    "vec3 = np.linspace(-1, 1, 8)\n",
    "print(vec3)"
   ]
  },
  {
   "cell_type": "markdown",
   "metadata": {
    "pycharm": {
     "name": "#%% md\n"
    }
   },
   "source": [
    "<p style=\"margin-left:2em\">d) (*) Geben Sie nur das Stück (slice) von Vektor b) aus, das die Zahlen 21 bis 38 (Stellen 11 bis 28) beinhaltet (geht in einer Zeile).</p>"
   ]
  },
  {
   "cell_type": "code",
   "execution_count": 68,
   "metadata": {
    "pycharm": {
     "name": "#%%\n"
    }
   },
   "outputs": [
    {
     "name": "stdout",
     "output_type": "stream",
     "text": [
      "[21 22 23 24 25 26 27 28 29 30 31 32 33 34 35 36 37 38]\n"
     ]
    }
   ],
   "source": [
    "# Geben Sie nur das Stück (slice) von Vektor b) aus, das die Zahlen 21 bis 38 (Stellen 11 bis 28) beinhaltet (geht in einer Zeile).\n",
    "vec4 = vec2[11:29]\n",
    "print(vec4)"
   ]
  },
  {
   "cell_type": "markdown",
   "metadata": {
    "pycharm": {
     "name": "#%% md\n"
    }
   },
   "source": [
    "<p style=\"margin-left:2em\">e) (*) Ändern Sie den Vektor b) indem sie das Stück (slice) von Stelle 15 bis <strong>einschließlich</strong> Stelle 25 mit den Werten negierten Werten von Stelle 1 bis <strong>einschließlich</strong> Stelle 11 überschreiben (geht in einer Zeile).</p>"
   ]
  },
  {
   "cell_type": "code",
   "execution_count": 69,
   "metadata": {
    "pycharm": {
     "name": "#%%\n"
    }
   },
   "outputs": [
    {
     "name": "stdout",
     "output_type": "stream",
     "text": [
      "[ 10  11  12  13  14  15  16  17  18  19  20  21  22  23  24 -11 -12 -13\n",
      " -14 -15 -16 -17 -18 -19 -20 -21  36  37  38  39  40  41  42  43  44  45\n",
      "  46  47  48  49]\n"
     ]
    }
   ],
   "source": [
    "# Ändern Sie den Vektor b) indem sie das Stück (slice) von Stelle 15 bis einschließlich Stelle 25 mit den Werten negierten Werten von Stelle 1 bis einschließlich Stelle 11 überschreiben (geht in einer Zeile).\n",
    "vec2[15:26] = vec2[1:12] * -1\n",
    "print(vec2)"
   ]
  },
  {
   "cell_type": "markdown",
   "metadata": {
    "pycharm": {
     "name": "#%% md\n"
    }
   },
   "source": [
    "<p style=\"margin-left:2em\">f) (*) Drehen Sie die Werte des Vektors aus b) oder a) um (geht in einer Zeile).</p>"
   ]
  },
  {
   "cell_type": "code",
   "execution_count": 70,
   "metadata": {
    "pycharm": {
     "name": "#%%\n"
    }
   },
   "outputs": [
    {
     "name": "stdout",
     "output_type": "stream",
     "text": [
      "[ 49  48  47  46  45  44  43  42  41  40  39  38  37  36 -21 -20 -19 -18\n",
      " -17 -16 -15 -14 -13 -12 -11  24  23  22  21  20  19  18  17  16  15  14\n",
      "  13  12  11  10]\n"
     ]
    }
   ],
   "source": [
    "# Drehen Sie die Werte des Vektors aus a) oder b) um (geht in einer Zeile).\n",
    "print(np.flip(vec2))"
   ]
  },
  {
   "cell_type": "markdown",
   "metadata": {
    "pycharm": {
     "name": "#%% md\n"
    }
   },
   "source": [
    "<p style=\"margin-left:2em\">g) (*) Summieren Sie alle Werte in einem Array (geht in einer Zeile).</p>"
   ]
  },
  {
   "cell_type": "code",
   "execution_count": 71,
   "metadata": {
    "pycharm": {
     "name": "#%%\n"
    }
   },
   "outputs": [
    {
     "name": "stdout",
     "output_type": "stream",
     "text": [
      "674\n"
     ]
    }
   ],
   "source": [
    "# Summieren Sie alle Werte in einem Array.\n",
    "print(np.sum(vec2))"
   ]
  },
  {
   "cell_type": "markdown",
   "metadata": {
    "pycharm": {
     "name": "#%% md\n"
    }
   },
   "source": [
    "<p style=\"margin-left:2em\">h) (*) Erzeugen Sie eine 4x4 Matrix mit den Werte 0 (links oben) bis 15 (rechts unten) (geht in einer Zeile).</p>"
   ]
  },
  {
   "cell_type": "code",
   "execution_count": 72,
   "metadata": {
    "pycharm": {
     "name": "#%%\n"
    }
   },
   "outputs": [
    {
     "name": "stdout",
     "output_type": "stream",
     "text": [
      "[[ 0  1  2  3]\n",
      " [ 4  5  6  7]\n",
      " [ 8  9 10 11]\n",
      " [12 13 14 15]]\n"
     ]
    }
   ],
   "source": [
    "# Erzeugen Sie eine 4x4 Matrix mit den Werte 0 (links oben) bis 15 (rechts unten) (geht in einer Zeile). Tip: Schauen Sie sich numpy.reshape an\n",
    "ma1 = np.arange(0, 16).reshape((4, 4))\n",
    "print(ma1)"
   ]
  },
  {
   "cell_type": "markdown",
   "metadata": {
    "pycharm": {
     "name": "#%% md\n"
    }
   },
   "source": [
    "<p style=\"margin-left:2em\">i) (*) Erzeugen Sie eine 5x3 Matrix mit Zufallswerteintegers zwischen 0-100 (geht in einer Zeile).</p>"
   ]
  },
  {
   "cell_type": "code",
   "execution_count": 73,
   "metadata": {
    "pycharm": {
     "name": "#%%\n"
    }
   },
   "outputs": [
    {
     "name": "stdout",
     "output_type": "stream",
     "text": [
      "[[50 97 55]\n",
      " [44 79 94]\n",
      " [21 70 18]\n",
      " [ 4 69  7]\n",
      " [85 75 53]]\n"
     ]
    }
   ],
   "source": [
    "# Erzeugen Sie eine 5x3 Matrix mit Zufallswerteintegers zwischen 0-100 (geht in einer Zeile).\n",
    "ma2 = np.random.randint(100, size=(5, 3))\n",
    "print(ma2)"
   ]
  },
  {
   "cell_type": "markdown",
   "metadata": {
    "pycharm": {
     "name": "#%% md\n"
    }
   },
   "source": [
    "<p style=\"margin-left:2em\">j) (*) Multiplizieren Sie eine 4x3 Matrix mit einer 3x2 Matrix (geht zwar in einer Zeile, aber benutzen Sie lieber Hilfsvariablen und drei Zeilen).</p>"
   ]
  },
  {
   "cell_type": "code",
   "execution_count": 74,
   "metadata": {
    "pycharm": {
     "name": "#%%\n"
    }
   },
   "outputs": [
    {
     "name": "stdout",
     "output_type": "stream",
     "text": [
      "[[153 144]\n",
      " [138 120]\n",
      " [ 64  66]\n",
      " [ 63  58]]\n"
     ]
    }
   ],
   "source": [
    "# Multiplizieren Sie eine 4x3 Matrix mit einer 3x2 Matrix (geht zwar in einer Zeile, aber benutzen Sie lieber Hilfsvariablen und drei Zeilen).\n",
    "ma3 = np.random.randint(0, 10, (4, 3))\n",
    "ma4 = np.random.randint(0, 10, (3, 2))\n",
    "print(np.matmul(ma3, ma4))\n"
   ]
  },
  {
   "cell_type": "markdown",
   "metadata": {
    "pycharm": {
     "name": "#%% md\n"
    }
   },
   "source": [
    "<p style=\"margin-left:2em\">k) (*) Erzeugen Sie eine 5x5 Matrix und geben Sie jeweils die geraden und die ungeraden Zeile aus (geht jeweils in einer Zeile).</p>"
   ]
  },
  {
   "cell_type": "code",
   "execution_count": 75,
   "metadata": {
    "pycharm": {
     "name": "#%%\n"
    }
   },
   "outputs": [
    {
     "name": "stdout",
     "output_type": "stream",
     "text": [
      "[[3 7 7 9 3]\n",
      " [5 7 0 1 9]\n",
      " [1 0 2 3 5]\n",
      " [1 7 9 9 2]\n",
      " [8 5 3 8 2]]\n",
      "[0 0 2 2 8 8 2]\n",
      "[3 7 7 9 3 5 7 1 9 1 3 5 1 7 9 9 5 3]\n"
     ]
    }
   ],
   "source": [
    "# Erzeugen Sie eine 5x5 Matrix und geben Sie jeweils die geraden und die ungeraden Zeile aus (geht jeweils in einer Zeile).\n",
    "ma5 = np.random.randint(0, 10, (5, 5))\n",
    "print(ma5)\n",
    "print(ma5[ma5 % 2 == 0])\n",
    "print(ma5[ma5 % 2 == 1])"
   ]
  },
  {
   "cell_type": "markdown",
   "metadata": {
    "pycharm": {
     "name": "#%% md\n"
    }
   },
   "source": [
    "<p style=\"margin-left:2em\">l) (**) Erzeuge eine 5x5 Matrix mit Zufallswerteintegers zwischen 0-100 und finde deren Maximum und Minimum und normalisieren Sie die Werte (sodass alle Werte zwischen 0 und 1 liegen - ein Wert wird 1 (max) sein und einer 0 (min)).</p>"
   ]
  },
  {
   "cell_type": "code",
   "execution_count": 76,
   "metadata": {
    "pycharm": {
     "name": "#%%\n"
    }
   },
   "outputs": [
    {
     "name": "stdout",
     "output_type": "stream",
     "text": [
      "[[52  0 25 73 81]\n",
      " [34  5  2 63 88]\n",
      " [54  7 98 42 71]\n",
      " [79 70 70 20 39]\n",
      " [50 81 52 52 14]]\n",
      "[[0.53061224 0.         0.25510204 0.74489796 0.82653061]\n",
      " [0.34693878 0.05102041 0.02040816 0.64285714 0.89795918]\n",
      " [0.55102041 0.07142857 1.         0.42857143 0.7244898 ]\n",
      " [0.80612245 0.71428571 0.71428571 0.20408163 0.39795918]\n",
      " [0.51020408 0.82653061 0.53061224 0.53061224 0.14285714]]\n"
     ]
    }
   ],
   "source": [
    "# Erzeuge eine 5x5 Matrix mit Zufallsintegers zwischen 0-100 und finde deren Maximum und Minimum und normalisieren Sie die Werte (sodass alle Werte zwischen 0 und 1 liegen - ein Wert wird 1 (max) sein und einer 0 (min)).\n",
    "# Hinweis: D.h. Sie muessen die Werte normalisieren (R - R_min) / (R_max - R_min)\n",
    "ma6 = np.random.randint(0, 100, (5, 5))\n",
    "ma6_max = ma6.max()\n",
    "ma6_min = ma6.min()\n",
    "print(ma6)\n",
    "print((ma6 - ma6_min) / (ma6_max - ma6_min))"
   ]
  },
  {
   "cell_type": "markdown",
   "metadata": {
    "pycharm": {
     "name": "#%% md\n"
    }
   },
   "source": [
    "<p style=\"margin-left:2em\">m) (**) Extrahieren Sie den Integer-Anteil eine Arrays von zufälliger Zahlen zwischen 0-10 auf 3 verschiedene Arten.</p>"
   ]
  },
  {
   "cell_type": "code",
   "execution_count": 77,
   "metadata": {
    "pycharm": {
     "name": "#%%\n"
    }
   },
   "outputs": [
    {
     "name": "stdout",
     "output_type": "stream",
     "text": [
      "[1.16557213 3.4713002  1.01377243 7.92167009 3.74712287 1.65298991\n",
      " 1.17933798 8.35006703 9.09493264 4.25639026]\n",
      "[1 3 1 7 3 1 1 8 9 4]\n",
      "[1. 3. 1. 7. 3. 1. 1. 8. 9. 4.]\n",
      "[1. 3. 1. 7. 3. 1. 1. 8. 9. 4.]\n"
     ]
    }
   ],
   "source": [
    "# Extrahieren Sie den Integer-Anteil eine Arrays von zufälliger Zahlen zwischen 0-10 auf 3 verschiedene Arten.\n",
    "ar1 = np.random.random(10) * 10\n",
    "print(ar1)\n",
    "print(ar1.astype(int))\n",
    "print(ar1 // 1)\n",
    "print(ar1 - ar1 % 1)"
   ]
  },
  {
   "cell_type": "markdown",
   "metadata": {
    "pycharm": {
     "name": "#%% md\n"
    }
   },
   "source": [
    "<p style=\"margin-left:2em\">n) (**) Erzeugen Sie eine Matrix M der Größe 4x3 und einen Vektor v mit Länge 3. Multiplizieren Sie jeden Spalteneintrag aus mit der kompletten Spalte aus M. Nutzen Sie dafür Broadcasting.</p>"
   ]
  },
  {
   "cell_type": "code",
   "execution_count": 78,
   "metadata": {
    "pycharm": {
     "name": "#%%\n"
    }
   },
   "outputs": [
    {
     "name": "stdout",
     "output_type": "stream",
     "text": [
      "[[ 9 10 10]\n",
      " [11  3 13]\n",
      " [ 7  3  8]\n",
      " [11  3 15]]\n"
     ]
    }
   ],
   "source": [
    "# Erzeugen Sie eine Matrix $M$ der Größe 4x3 und einen Vektor $v$ mit Länge 3. Multiplizieren Sie jeden Spalteneintrag aus $v$ mit der kompletten Spalte aus $M$. Nutzen Sie dafür Broadcasting.\n",
    "m = np.random.randint(0, 10, (4, 3))\n",
    "v = np.random.randint(0, 10, 3)\n",
    "print(m + v)"
   ]
  },
  {
   "cell_type": "markdown",
   "metadata": {
    "pycharm": {
     "name": "#%% md\n"
    }
   },
   "source": [
    "<p style=\"margin-left:2em\">o) (***) Erzeugen Sie einen Zufallsmatrix der Größe 10x2, die Sie als Kartesische Koordinateninterpretieren können ([[x0, y0],[x1, y1],[x2, y2]]). Konvertieren Sie diese in Polarkoordinaten <a href=\"https://de.wikipedia.org/wiki/Polarkoordinaten\">https://de.wikipedia.org/wiki/Polarkoordinaten</a>.</p>"
   ]
  },
  {
   "cell_type": "code",
   "execution_count": 79,
   "metadata": {
    "pycharm": {
     "name": "#%%\n"
    }
   },
   "outputs": [
    {
     "name": "stdout",
     "output_type": "stream",
     "text": [
      "[4 6]\n",
      "[7.211102550927978, 0.5880026035475675]\n",
      "[2 9]\n",
      "[9.219544457292887, 0.21866894587394195]\n",
      "[7 5]\n",
      "[8.602325267042627, 0.9505468408120752]\n",
      "[4 9]\n",
      "[9.848857801796104, 0.4182243295792291]\n",
      "[6 8]\n",
      "[10.0, 0.6435011087932844]\n",
      "[2 7]\n",
      "[7.280109889280518, 0.27829965900511133]\n",
      "[6 9]\n",
      "[10.816653826391969, 0.5880026035475675]\n",
      "[5 9]\n",
      "[10.295630140987, 0.507098504392337]\n",
      "[5 3]\n",
      "[5.830951894845301, 1.0303768265243125]\n",
      "[5 4]\n",
      "[6.4031242374328485, 0.8960553845713439]\n"
     ]
    }
   ],
   "source": [
    "# Erzeugen Sie einen Zufallsmatrix der Größe 10x2, die Sie als Kartesische Koordinaten interpretieren können ([[x0, y0],[x1, y1],[x2, y2]]).\n",
    "# Konvertieren Sie diese in Polarkoordinaten \\url{https://de.wikipedia.org/wiki/Polarkoordinaten}.\n",
    "# Hinweis: nutzen Sie fuer die Berechnung des Winkel np.arctan2 und geben Sie jeweils Radius und Winkel als Vektor aus\n",
    "import math\n",
    "\n",
    "for i in np.random.randint(0, 10, (10, 2)):\n",
    "    print(i)\n",
    "    print([math.sqrt(i[0] ** 2 + i[1] ** 2), np.arctan2(i[0], i[1])])"
   ]
  },
  {
   "cell_type": "markdown",
   "metadata": {
    "pycharm": {
     "name": "#%% md\n"
    }
   },
   "source": [
    "<p style=\"margin-left:2em\">p) (***) Erzeugen Sie einen Matrix der Größe 6x2, die Sie als Kartesische Koordinaten interpretieren können ([[x0, y0],[x1, y1],[x2, y2]]). Schreiben Sie eine Funktion, die alle Punkt-Punkt Abstände berechnet und in einer 6x6 Matrix ausgibt.</p>"
   ]
  },
  {
   "cell_type": "code",
   "execution_count": 80,
   "outputs": [
    {
     "name": "stdout",
     "output_type": "stream",
     "text": [
      "[[0 9]\n",
      " [2 2]\n",
      " [9 4]\n",
      " [7 2]\n",
      " [1 9]\n",
      " [1 2]]\n",
      "[[ 0.          7.28010989 10.29563014  9.89949494  1.          7.07106781]\n",
      " [ 7.28010989  0.          7.28010989  5.          7.07106781  1.        ]\n",
      " [10.29563014  7.28010989  0.          2.82842712  9.43398113  8.24621125]\n",
      " [ 9.89949494  5.          2.82842712  0.          9.21954446  6.        ]\n",
      " [ 1.          7.07106781  9.43398113  9.21954446  0.          7.        ]\n",
      " [ 7.07106781  1.          8.24621125  6.          7.          0.        ]]\n"
     ]
    }
   ],
   "source": [
    "# Erzeugen Sie einen Matrix der Größe 6x2, die Sie als Kartesische Koordinaten interpretieren können ([[x0, y0],[x1, y1],[x2, y2]]).\n",
    "# Schreiben Sie eine Funktion, die alle Punkt-Punkt Abstände berechnet.\n",
    "ma7 = np.random.randint(0, 10, (6, 2))\n",
    "print(ma7)\n",
    "i = j = 0\n",
    "ma9 = np.array([[0.0] * 6] * 6)\n",
    "for x in ma7:\n",
    "    for y in ma7:\n",
    "        ma9[i, j] = np.linalg.norm(x - y, ord=2)\n",
    "        j += 1\n",
    "    j = 0\n",
    "    i += 1\n",
    "print(ma9)"
   ],
   "metadata": {
    "collapsed": false,
    "pycharm": {
     "name": "#%%\n"
    }
   }
  }
 ],
 "metadata": {
  "kernelspec": {
   "display_name": "Python 3 (ipykernel)",
   "language": "python",
   "name": "python3"
  },
  "language_info": {
   "codemirror_mode": {
    "name": "ipython",
    "version": 3
   },
   "file_extension": ".py",
   "mimetype": "text/x-python",
   "name": "python",
   "nbconvert_exporter": "python",
   "pygments_lexer": "ipython3",
   "version": "3.9.12"
  }
 },
 "nbformat": 4,
 "nbformat_minor": 2
}